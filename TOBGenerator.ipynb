{
 "cells": [
  {
   "cell_type": "markdown",
   "metadata": {},
   "source": [
    "# TOB generator"
   ]
  },
  {
   "cell_type": "markdown",
   "metadata": {},
   "source": [
    "## Imports"
   ]
  },
  {
   "cell_type": "code",
   "execution_count": null,
   "metadata": {},
   "outputs": [],
   "source": [
    "#Workaround\n",
    "import sys\n",
    "sys.path.append('C:\\msys64\\mingw64\\lib\\python3.10\\site-packages')"
   ]
  },
  {
   "cell_type": "code",
   "execution_count": null,
   "metadata": {},
   "outputs": [],
   "source": [
    "import ipywidgets as widgets\n",
    "import os\n",
    "from IPython.display import display\n",
    "from TOBReport import *"
   ]
  },
  {
   "cell_type": "markdown",
   "metadata": {},
   "source": [
    "## Upload files"
   ]
  },
  {
   "cell_type": "code",
   "execution_count": null,
   "metadata": {},
   "outputs": [],
   "source": [
    "uploader = widgets.FileUpload(multiple=True)\n",
    "display(uploader)"
   ]
  },
  {
   "cell_type": "code",
   "execution_count": null,
   "metadata": {},
   "outputs": [],
   "source": [
    "uploadsDir = \"uploads\"\n",
    "\n",
    "if not os.path.exists(uploadsDir):\n",
    "    os.makedirs(uploadsDir)\n",
    "\n",
    "filePaths = []\n",
    "tradeRepublicReports = []\n",
    "for filename, fileInfo in uploader.value.items():\n",
    "    filePath = os.path.join(uploadsDir, filename)\n",
    "    filePaths.append(filePath)\n",
    "    with open(filePath, \"wb\") as file:\n",
    "        file.write(fileInfo[\"content\"])\n",
    "\n",
    "for filePath in filePaths:\n",
    "    tradeRepublicReports.append(TradeRepublicTaxReport(filePath))\n",
    "\n",
    "tob = TOBReport(tradeRepublicReports)\n",
    "tob.generateTOBReportPDF()\n",
    "tob.generateQRcode()"
   ]
  }
 ],
 "metadata": {
  "kernelspec": {
   "display_name": "Python 3 (ipykernel)",
   "language": "python",
   "name": "python3"
  },
  "language_info": {
   "codemirror_mode": {
    "name": "ipython",
    "version": 3
   },
   "file_extension": ".py",
   "mimetype": "text/x-python",
   "name": "python",
   "nbconvert_exporter": "python",
   "pygments_lexer": "ipython3",
   "version": "3.9.7"
  }
 },
 "nbformat": 4,
 "nbformat_minor": 2
}
